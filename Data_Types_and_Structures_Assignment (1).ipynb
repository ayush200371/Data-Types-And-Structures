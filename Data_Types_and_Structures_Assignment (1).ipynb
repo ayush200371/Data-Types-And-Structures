{
  "cells": [
    {
      "cell_type": "markdown",
      "id": "74b996fe",
      "metadata": {
        "id": "74b996fe"
      },
      "source": [
        "### 1. What are data structures, and why are they important?"
      ]
    },
    {
      "cell_type": "code",
      "execution_count": null,
      "id": "e04e8146",
      "metadata": {
        "id": "e04e8146"
      },
      "outputs": [],
      "source": [
        "\"\"\"Data structures are ways to store and organize data efficiently. They are important because they enable efficient access and modification of data.\"\"\""
      ]
    },
    {
      "cell_type": "markdown",
      "id": "80ee6b2c",
      "metadata": {
        "id": "80ee6b2c"
      },
      "source": [
        "### 2. Explain the difference between mutable and immutable data types with examples."
      ]
    },
    {
      "cell_type": "code",
      "execution_count": null,
      "id": "2d8d0947",
      "metadata": {
        "id": "2d8d0947"
      },
      "outputs": [],
      "source": [
        "\"\"\"Mutable data types can be changed after creation (e.g., list, dict), while immutable types cannot (e.g., str, tuple).\"\"\""
      ]
    },
    {
      "cell_type": "markdown",
      "id": "66c99eda",
      "metadata": {
        "id": "66c99eda"
      },
      "source": [
        "### 3. What are the main differences between lists and tuples in Python?"
      ]
    },
    {
      "cell_type": "code",
      "execution_count": null,
      "id": "f56060cf",
      "metadata": {
        "id": "f56060cf"
      },
      "outputs": [],
      "source": [
        "\"\"\"Lists are mutable and allow changes, whereas tuples are immutable and cannot be changed after creation.\"\"\""
      ]
    },
    {
      "cell_type": "markdown",
      "id": "7622e2bf",
      "metadata": {
        "id": "7622e2bf"
      },
      "source": [
        "### 4. Describe how dictionaries store data."
      ]
    },
    {
      "cell_type": "code",
      "execution_count": null,
      "id": "803fa7d4",
      "metadata": {
        "id": "803fa7d4"
      },
      "outputs": [],
      "source": [
        "\"\"\"Dictionaries store data as key-value pairs, using a hash table internally for fast access by keys.\"\"\""
      ]
    },
    {
      "cell_type": "markdown",
      "id": "7f69edb6",
      "metadata": {
        "id": "7f69edb6"
      },
      "source": [
        "### 5. Why might you use a set instead of a list in Python?"
      ]
    },
    {
      "cell_type": "code",
      "execution_count": null,
      "id": "9f84b3bc",
      "metadata": {
        "id": "9f84b3bc"
      },
      "outputs": [],
      "source": [
        "\"\"\"Sets automatically remove duplicates and are useful when you want unique elements.\"\"\""
      ]
    },
    {
      "cell_type": "markdown",
      "id": "1b5f77f1",
      "metadata": {
        "id": "1b5f77f1"
      },
      "source": [
        "### 6. What is a string in Python, and how is it different from a list?"
      ]
    },
    {
      "cell_type": "code",
      "execution_count": null,
      "id": "e1e6a016",
      "metadata": {
        "id": "e1e6a016"
      },
      "outputs": [],
      "source": [
        "\"\"\"A string is an immutable sequence of characters. Unlike lists, you can't change individual characters in a string.\"\"\""
      ]
    },
    {
      "cell_type": "markdown",
      "id": "a63140a5",
      "metadata": {
        "id": "a63140a5"
      },
      "source": [
        "### 7. How do tuples ensure data integrity in Python?"
      ]
    },
    {
      "cell_type": "code",
      "execution_count": null,
      "id": "48b60071",
      "metadata": {
        "id": "48b60071"
      },
      "outputs": [],
      "source": [
        "\"\"\"Because they are immutable, tuples cannot be altered, which helps ensure the data remains constant.\"\"\""
      ]
    },
    {
      "cell_type": "markdown",
      "id": "276b3210",
      "metadata": {
        "id": "276b3210"
      },
      "source": [
        "### 8. What is a hash table, and how does it relate to dictionaries in Python?"
      ]
    },
    {
      "cell_type": "code",
      "execution_count": null,
      "id": "35d426ad",
      "metadata": {
        "id": "35d426ad"
      },
      "outputs": [],
      "source": [
        "\"\"\"A hash table is a data structure that maps keys to values using a hash function. Python dictionaries use hash tables internally.\"\"\""
      ]
    },
    {
      "cell_type": "markdown",
      "id": "ae99ab91",
      "metadata": {
        "id": "ae99ab91"
      },
      "source": [
        "### 9. Can lists contain different data types in Python?"
      ]
    },
    {
      "cell_type": "code",
      "execution_count": null,
      "id": "cac92b10",
      "metadata": {
        "id": "cac92b10"
      },
      "outputs": [],
      "source": [
        "\"\"\"Yes, Python lists can contain elements of different types, such as integers, strings, and even other lists.\"\"\""
      ]
    },
    {
      "cell_type": "markdown",
      "id": "075a3196",
      "metadata": {
        "id": "075a3196"
      },
      "source": [
        "### 10. Explain why strings are immutable in Python."
      ]
    },
    {
      "cell_type": "code",
      "execution_count": null,
      "id": "96a016ec",
      "metadata": {
        "id": "96a016ec"
      },
      "outputs": [],
      "source": [
        "\"\"\"Because strings are immutable, operations like slicing or concatenation return a new string instead of modifying the original.\"\"\""
      ]
    },
    {
      "cell_type": "markdown",
      "id": "a1e10583",
      "metadata": {
        "id": "a1e10583"
      },
      "source": [
        "### 11. What advantages do dictionaries offer over lists for certain tasks?"
      ]
    },
    {
      "cell_type": "code",
      "execution_count": null,
      "id": "bf69beb5",
      "metadata": {
        "id": "bf69beb5"
      },
      "outputs": [],
      "source": [
        "\"\"\"Dictionaries allow constant time key-based access, which is faster and more organized than searching through a list.\"\"\""
      ]
    },
    {
      "cell_type": "markdown",
      "id": "bcc56be3",
      "metadata": {
        "id": "bcc56be3"
      },
      "source": [
        "### 12. Describe a scenario where using a tuple would be preferable over a list."
      ]
    },
    {
      "cell_type": "code",
      "execution_count": null,
      "id": "af5f7e14",
      "metadata": {
        "id": "af5f7e14"
      },
      "outputs": [],
      "source": [
        "\"\"\"Tuples are preferable when the data should not change, such as representing geographic coordinates (latitude, longitude).\"\"\""
      ]
    },
    {
      "cell_type": "markdown",
      "id": "adae6de4",
      "metadata": {
        "id": "adae6de4"
      },
      "source": [
        "### 13. How do sets handle duplicate values in Python?"
      ]
    },
    {
      "cell_type": "code",
      "execution_count": null,
      "id": "aa17e6cc",
      "metadata": {
        "id": "aa17e6cc"
      },
      "outputs": [],
      "source": [
        "\"\"\"Sets automatically remove duplicate elements and do not allow duplicates.\"\"\""
      ]
    },
    {
      "cell_type": "markdown",
      "id": "bdbdba5e",
      "metadata": {
        "id": "bdbdba5e"
      },
      "source": [
        "### 14. How does the “in” keyword work differently for lists and dictionaries?"
      ]
    },
    {
      "cell_type": "code",
      "execution_count": null,
      "id": "64ebceb7",
      "metadata": {
        "id": "64ebceb7"
      },
      "outputs": [],
      "source": [
        "\"\"\"In a list, 'in' checks values. In a dictionary, 'in' checks keys.\"\"\""
      ]
    },
    {
      "cell_type": "markdown",
      "id": "f2b0574d",
      "metadata": {
        "id": "f2b0574d"
      },
      "source": [
        "### 15. Can you modify the elements of a tuple? Explain why or why not."
      ]
    },
    {
      "cell_type": "code",
      "execution_count": null,
      "id": "0bc0155f",
      "metadata": {
        "id": "0bc0155f"
      },
      "outputs": [],
      "source": [
        "\"\"\"No, tuples are immutable and their elements cannot be modified.\"\"\""
      ]
    },
    {
      "cell_type": "markdown",
      "id": "331e2364",
      "metadata": {
        "id": "331e2364"
      },
      "source": [
        "### 16. What is a nested dictionary, and give an example of its use case."
      ]
    },
    {
      "cell_type": "code",
      "execution_count": null,
      "id": "cde04caf",
      "metadata": {
        "id": "cde04caf"
      },
      "outputs": [],
      "source": [
        "\"\"\"A nested dictionary is a dictionary within another dictionary. Example: `{'person': {'name': 'John', 'age': 30}}`\"\"\""
      ]
    },
    {
      "cell_type": "markdown",
      "id": "6dd5611b",
      "metadata": {
        "id": "6dd5611b"
      },
      "source": [
        "### 17. Describe the time complexity of accessing elements in a dictionary."
      ]
    },
    {
      "cell_type": "code",
      "execution_count": null,
      "id": "ec1ec764",
      "metadata": {
        "id": "ec1ec764"
      },
      "outputs": [],
      "source": [
        "\"\"\"Accessing a value in a dictionary has average time complexity O(1) due to hash table use.\"\"\""
      ]
    },
    {
      "cell_type": "markdown",
      "id": "8c0f12f3",
      "metadata": {
        "id": "8c0f12f3"
      },
      "source": [
        "### 18. In what situations are lists preferred over dictionaries?"
      ]
    },
    {
      "cell_type": "code",
      "execution_count": null,
      "id": "045b2a8f",
      "metadata": {
        "id": "045b2a8f"
      },
      "outputs": [],
      "source": [
        "\"\"\"Lists are preferred when order matters or when iterating through elements linearly.\"\"\""
      ]
    },
    {
      "cell_type": "markdown",
      "id": "59bc0b30",
      "metadata": {
        "id": "59bc0b30"
      },
      "source": [
        "### 19. Why are dictionaries considered unordered, and how does that affect data retrieval?"
      ]
    },
    {
      "cell_type": "code",
      "execution_count": null,
      "id": "b21dfd96",
      "metadata": {
        "id": "b21dfd96"
      },
      "outputs": [],
      "source": [
        "\"\"\"Dictionaries are unordered by default, so items may not be returned in the order inserted (before Python 3.7).\"\"\""
      ]
    },
    {
      "cell_type": "markdown",
      "id": "9891d57d",
      "metadata": {
        "id": "9891d57d"
      },
      "source": [
        "### 20. Explain the difference between a list and a dictionary in terms of data retrieval."
      ]
    },
    {
      "cell_type": "code",
      "execution_count": null,
      "id": "2e905678",
      "metadata": {
        "id": "2e905678"
      },
      "outputs": [],
      "source": [
        "\"\"\"Lists use index-based retrieval, while dictionaries use key-based retrieval.\"\"\""
      ]
    },
    {
      "cell_type": "markdown",
      "id": "4b81849d",
      "metadata": {
        "id": "4b81849d"
      },
      "source": [
        "### Practical Question 1"
      ]
    },
    {
      "cell_type": "code",
      "execution_count": 1,
      "id": "60584fae",
      "metadata": {
        "colab": {
          "base_uri": "https://localhost:8080/"
        },
        "id": "60584fae",
        "outputId": "5f99c768-c25d-40b3-d7c6-180213101262"
      },
      "outputs": [
        {
          "output_type": "stream",
          "name": "stdout",
          "text": [
            "Your Name\n"
          ]
        }
      ],
      "source": [
        "name = \"Your Name\"\n",
        "print(name)"
      ]
    },
    {
      "cell_type": "markdown",
      "id": "472673d0",
      "metadata": {
        "id": "472673d0"
      },
      "source": [
        "### Practical Question 2"
      ]
    },
    {
      "cell_type": "code",
      "execution_count": 2,
      "id": "5ec826e8",
      "metadata": {
        "colab": {
          "base_uri": "https://localhost:8080/"
        },
        "id": "5ec826e8",
        "outputId": "4a5da582-afd2-44e4-f425-5a905bfdc579"
      },
      "outputs": [
        {
          "output_type": "stream",
          "name": "stdout",
          "text": [
            "11\n"
          ]
        }
      ],
      "source": [
        "s = \"Hello World\"\n",
        "print(len(s))"
      ]
    },
    {
      "cell_type": "markdown",
      "id": "08f86678",
      "metadata": {
        "id": "08f86678"
      },
      "source": [
        "### Practical Question 3"
      ]
    },
    {
      "cell_type": "code",
      "execution_count": 3,
      "id": "24a1b6b3",
      "metadata": {
        "colab": {
          "base_uri": "https://localhost:8080/"
        },
        "id": "24a1b6b3",
        "outputId": "ea356ee5-971c-4d1a-e51d-da786806cacf"
      },
      "outputs": [
        {
          "output_type": "stream",
          "name": "stdout",
          "text": [
            "Pyt\n"
          ]
        }
      ],
      "source": [
        "s = \"Python Programming\"\n",
        "print(s[:3])"
      ]
    },
    {
      "cell_type": "markdown",
      "id": "55d4d872",
      "metadata": {
        "id": "55d4d872"
      },
      "source": [
        "### Practical Question 4"
      ]
    },
    {
      "cell_type": "code",
      "execution_count": 4,
      "id": "470c018f",
      "metadata": {
        "colab": {
          "base_uri": "https://localhost:8080/"
        },
        "id": "470c018f",
        "outputId": "c5b7d306-bd14-4cc5-da3c-5f39fea27759"
      },
      "outputs": [
        {
          "output_type": "stream",
          "name": "stdout",
          "text": [
            "HELLO\n"
          ]
        }
      ],
      "source": [
        "s = \"hello\"\n",
        "print(s.upper())"
      ]
    },
    {
      "cell_type": "markdown",
      "id": "47f2e945",
      "metadata": {
        "id": "47f2e945"
      },
      "source": [
        "### Practical Question 5"
      ]
    },
    {
      "cell_type": "code",
      "execution_count": 5,
      "id": "b2b9c404",
      "metadata": {
        "colab": {
          "base_uri": "https://localhost:8080/"
        },
        "id": "b2b9c404",
        "outputId": "d9fcb934-2ec5-43c3-e3e1-0945acbaa4c9"
      },
      "outputs": [
        {
          "output_type": "stream",
          "name": "stdout",
          "text": [
            "I like orange\n"
          ]
        }
      ],
      "source": [
        "s = \"I like apple\"\n",
        "print(s.replace(\"apple\", \"orange\"))"
      ]
    },
    {
      "cell_type": "markdown",
      "id": "7e4591dd",
      "metadata": {
        "id": "7e4591dd"
      },
      "source": [
        "### Practical Question 6"
      ]
    },
    {
      "cell_type": "code",
      "execution_count": 6,
      "id": "7a7f7dc0",
      "metadata": {
        "colab": {
          "base_uri": "https://localhost:8080/"
        },
        "id": "7a7f7dc0",
        "outputId": "eab54067-cdd2-49a2-fca6-64537324a590"
      },
      "outputs": [
        {
          "output_type": "stream",
          "name": "stdout",
          "text": [
            "[1, 2, 3, 4, 5]\n"
          ]
        }
      ],
      "source": [
        "lst = [1, 2, 3, 4, 5]\n",
        "print(lst)"
      ]
    },
    {
      "cell_type": "markdown",
      "id": "c65949d6",
      "metadata": {
        "id": "c65949d6"
      },
      "source": [
        "### Practical Question 7"
      ]
    },
    {
      "cell_type": "code",
      "execution_count": 7,
      "id": "95fb6e3c",
      "metadata": {
        "colab": {
          "base_uri": "https://localhost:8080/"
        },
        "id": "95fb6e3c",
        "outputId": "916c0da8-da3a-4a31-d8fd-35663716d3f7"
      },
      "outputs": [
        {
          "output_type": "stream",
          "name": "stdout",
          "text": [
            "[1, 2, 3, 4, 10]\n"
          ]
        }
      ],
      "source": [
        "lst = [1, 2, 3, 4]\n",
        "lst.append(10)\n",
        "print(lst)"
      ]
    },
    {
      "cell_type": "markdown",
      "id": "df5c978c",
      "metadata": {
        "id": "df5c978c"
      },
      "source": [
        "### Practical Question 8"
      ]
    },
    {
      "cell_type": "code",
      "execution_count": 8,
      "id": "afc45b50",
      "metadata": {
        "colab": {
          "base_uri": "https://localhost:8080/"
        },
        "id": "afc45b50",
        "outputId": "10ba7bb3-a5e0-4f66-f723-2611f47be9c5"
      },
      "outputs": [
        {
          "output_type": "stream",
          "name": "stdout",
          "text": [
            "[1, 2, 4, 5]\n"
          ]
        }
      ],
      "source": [
        "lst = [1, 2, 3, 4, 5]\n",
        "lst.remove(3)\n",
        "print(lst)"
      ]
    },
    {
      "cell_type": "markdown",
      "id": "dc157aad",
      "metadata": {
        "id": "dc157aad"
      },
      "source": [
        "### Practical Question 9"
      ]
    },
    {
      "cell_type": "code",
      "execution_count": 9,
      "id": "e8e42d78",
      "metadata": {
        "colab": {
          "base_uri": "https://localhost:8080/"
        },
        "id": "e8e42d78",
        "outputId": "01749a78-c55e-497f-a495-bf22c82a363c"
      },
      "outputs": [
        {
          "output_type": "stream",
          "name": "stdout",
          "text": [
            "b\n"
          ]
        }
      ],
      "source": [
        "lst = ['a', 'b', 'c', 'd']\n",
        "print(lst[1])"
      ]
    },
    {
      "cell_type": "markdown",
      "id": "9325fd32",
      "metadata": {
        "id": "9325fd32"
      },
      "source": [
        "### Practical Question 10"
      ]
    },
    {
      "cell_type": "code",
      "execution_count": 10,
      "id": "41f658aa",
      "metadata": {
        "colab": {
          "base_uri": "https://localhost:8080/"
        },
        "id": "41f658aa",
        "outputId": "185b406b-2975-4db3-823a-4261a820f095"
      },
      "outputs": [
        {
          "output_type": "stream",
          "name": "stdout",
          "text": [
            "[50, 40, 30, 20, 10]\n"
          ]
        }
      ],
      "source": [
        "lst = [10, 20, 30, 40, 50]\n",
        "lst.reverse()\n",
        "print(lst)"
      ]
    },
    {
      "cell_type": "markdown",
      "id": "54425261",
      "metadata": {
        "id": "54425261"
      },
      "source": [
        "### Practical Question 11"
      ]
    },
    {
      "cell_type": "code",
      "execution_count": 11,
      "id": "51fc38e5",
      "metadata": {
        "colab": {
          "base_uri": "https://localhost:8080/"
        },
        "id": "51fc38e5",
        "outputId": "b399404a-8ebc-4537-b5c9-6c046116335c"
      },
      "outputs": [
        {
          "output_type": "stream",
          "name": "stdout",
          "text": [
            "(100, 200, 300)\n"
          ]
        }
      ],
      "source": [
        "t = (100, 200, 300)\n",
        "print(t)"
      ]
    },
    {
      "cell_type": "markdown",
      "id": "a9491974",
      "metadata": {
        "id": "a9491974"
      },
      "source": [
        "### Practical Question 12"
      ]
    },
    {
      "cell_type": "code",
      "execution_count": 12,
      "id": "6563f8ae",
      "metadata": {
        "colab": {
          "base_uri": "https://localhost:8080/"
        },
        "id": "6563f8ae",
        "outputId": "e0d50b08-a06e-4404-c274-634659297430"
      },
      "outputs": [
        {
          "output_type": "stream",
          "name": "stdout",
          "text": [
            "blue\n"
          ]
        }
      ],
      "source": [
        "t = (\"red\", \"green\", \"blue\", \"yellow\")\n",
        "print(t[-2])"
      ]
    },
    {
      "cell_type": "markdown",
      "id": "32143bcf",
      "metadata": {
        "id": "32143bcf"
      },
      "source": [
        "### Practical Question 13"
      ]
    },
    {
      "cell_type": "code",
      "execution_count": 13,
      "id": "0b8de16d",
      "metadata": {
        "colab": {
          "base_uri": "https://localhost:8080/"
        },
        "id": "0b8de16d",
        "outputId": "511b50e1-9704-4136-9cd1-a2235171382a"
      },
      "outputs": [
        {
          "output_type": "stream",
          "name": "stdout",
          "text": [
            "5\n"
          ]
        }
      ],
      "source": [
        "t = (10, 20, 5, 15)\n",
        "print(min(t))"
      ]
    },
    {
      "cell_type": "markdown",
      "id": "eecb82c6",
      "metadata": {
        "id": "eecb82c6"
      },
      "source": [
        "### Practical Question 14"
      ]
    },
    {
      "cell_type": "code",
      "execution_count": 14,
      "id": "1106f943",
      "metadata": {
        "colab": {
          "base_uri": "https://localhost:8080/"
        },
        "id": "1106f943",
        "outputId": "c561a44c-31fe-40fd-d57f-dee1aa4d6a34"
      },
      "outputs": [
        {
          "output_type": "stream",
          "name": "stdout",
          "text": [
            "1\n"
          ]
        }
      ],
      "source": [
        "t = (\"dog\", \"cat\", \"rabbit\")\n",
        "print(t.index(\"cat\"))"
      ]
    },
    {
      "cell_type": "markdown",
      "id": "cf4ab12c",
      "metadata": {
        "id": "cf4ab12c"
      },
      "source": [
        "### Practical Question 15"
      ]
    },
    {
      "cell_type": "code",
      "execution_count": 15,
      "id": "a2331562",
      "metadata": {
        "colab": {
          "base_uri": "https://localhost:8080/"
        },
        "id": "a2331562",
        "outputId": "2e61e1a8-bf09-4a36-b27a-81de7360bf7b"
      },
      "outputs": [
        {
          "output_type": "stream",
          "name": "stdout",
          "text": [
            "False\n"
          ]
        }
      ],
      "source": [
        "t = (\"apple\", \"banana\", \"mango\")\n",
        "print(\"kiwi\" in t)"
      ]
    },
    {
      "cell_type": "markdown",
      "id": "e8d933d5",
      "metadata": {
        "id": "e8d933d5"
      },
      "source": [
        "### Practical Question 16"
      ]
    },
    {
      "cell_type": "code",
      "execution_count": 16,
      "id": "1448a0cd",
      "metadata": {
        "colab": {
          "base_uri": "https://localhost:8080/"
        },
        "id": "1448a0cd",
        "outputId": "2b06c254-ad28-48c2-ec2a-18f25f449e68"
      },
      "outputs": [
        {
          "output_type": "stream",
          "name": "stdout",
          "text": [
            "{'a', 'c', 'b'}\n"
          ]
        }
      ],
      "source": [
        "s = {'a', 'b', 'c'}\n",
        "print(s)"
      ]
    },
    {
      "cell_type": "markdown",
      "id": "f46ae164",
      "metadata": {
        "id": "f46ae164"
      },
      "source": [
        "### Practical Question 17"
      ]
    },
    {
      "cell_type": "code",
      "execution_count": 17,
      "id": "7d64f164",
      "metadata": {
        "colab": {
          "base_uri": "https://localhost:8080/"
        },
        "id": "7d64f164",
        "outputId": "16284837-bd35-451a-c00e-795afe9cdaf0"
      },
      "outputs": [
        {
          "output_type": "stream",
          "name": "stdout",
          "text": [
            "set()\n"
          ]
        }
      ],
      "source": [
        "s = {1, 2, 3, 4, 5}\n",
        "s.clear()\n",
        "print(s)"
      ]
    },
    {
      "cell_type": "markdown",
      "id": "4543b608",
      "metadata": {
        "id": "4543b608"
      },
      "source": [
        "### Practical Question 18"
      ]
    },
    {
      "cell_type": "code",
      "execution_count": 18,
      "id": "b6e493bc",
      "metadata": {
        "colab": {
          "base_uri": "https://localhost:8080/"
        },
        "id": "b6e493bc",
        "outputId": "333af36a-f6ba-4626-b99a-c46039928fd0"
      },
      "outputs": [
        {
          "output_type": "stream",
          "name": "stdout",
          "text": [
            "{1, 2, 3}\n"
          ]
        }
      ],
      "source": [
        "s = {1, 2, 3, 4}\n",
        "s.remove(4)\n",
        "print(s)"
      ]
    },
    {
      "cell_type": "markdown",
      "id": "bde0a8b4",
      "metadata": {
        "id": "bde0a8b4"
      },
      "source": [
        "### Practical Question 19"
      ]
    },
    {
      "cell_type": "code",
      "execution_count": 19,
      "id": "40f58434",
      "metadata": {
        "colab": {
          "base_uri": "https://localhost:8080/"
        },
        "id": "40f58434",
        "outputId": "0b8124c8-84c7-44ee-ad1b-f3c9fc9bce1c"
      },
      "outputs": [
        {
          "output_type": "stream",
          "name": "stdout",
          "text": [
            "{1, 2, 3, 4, 5}\n"
          ]
        }
      ],
      "source": [
        "a = {1, 2, 3}\n",
        "b = {3, 4, 5}\n",
        "print(a.union(b))"
      ]
    },
    {
      "cell_type": "markdown",
      "id": "a82ee86e",
      "metadata": {
        "id": "a82ee86e"
      },
      "source": [
        "### Practical Question 20"
      ]
    },
    {
      "cell_type": "code",
      "execution_count": 20,
      "id": "5b17a5a8",
      "metadata": {
        "colab": {
          "base_uri": "https://localhost:8080/"
        },
        "id": "5b17a5a8",
        "outputId": "113106fe-5634-4cb3-a96b-8d026122c22b"
      },
      "outputs": [
        {
          "output_type": "stream",
          "name": "stdout",
          "text": [
            "{2, 3}\n"
          ]
        }
      ],
      "source": [
        "a = {1, 2, 3}\n",
        "b = {2, 3, 4}\n",
        "print(a.intersection(b))"
      ]
    },
    {
      "cell_type": "markdown",
      "id": "072e1dce",
      "metadata": {
        "id": "072e1dce"
      },
      "source": [
        "### Practical Question 21"
      ]
    },
    {
      "cell_type": "code",
      "execution_count": 21,
      "id": "dbdc5fed",
      "metadata": {
        "colab": {
          "base_uri": "https://localhost:8080/"
        },
        "id": "dbdc5fed",
        "outputId": "3ee91ddf-e325-4fdc-ecfd-8cc7b1969faa"
      },
      "outputs": [
        {
          "output_type": "stream",
          "name": "stdout",
          "text": [
            "{'name': 'John', 'age': 25, 'city': 'New York'}\n"
          ]
        }
      ],
      "source": [
        "d = {\"name\": \"John\", \"age\": 25, \"city\": \"New York\"}\n",
        "print(d)"
      ]
    },
    {
      "cell_type": "markdown",
      "id": "75430ef3",
      "metadata": {
        "id": "75430ef3"
      },
      "source": [
        "### Practical Question 22"
      ]
    },
    {
      "cell_type": "code",
      "execution_count": 22,
      "id": "a0858311",
      "metadata": {
        "colab": {
          "base_uri": "https://localhost:8080/"
        },
        "id": "a0858311",
        "outputId": "112fc9f3-d35a-483a-a8bb-9e3d89c13dbd"
      },
      "outputs": [
        {
          "output_type": "stream",
          "name": "stdout",
          "text": [
            "{'name': 'John', 'age': 25, 'country': 'USA'}\n"
          ]
        }
      ],
      "source": [
        "d = {'name': 'John', 'age': 25}\n",
        "d['country'] = 'USA'\n",
        "print(d)"
      ]
    },
    {
      "cell_type": "markdown",
      "id": "92b6ce1a",
      "metadata": {
        "id": "92b6ce1a"
      },
      "source": [
        "### Practical Question 23"
      ]
    },
    {
      "cell_type": "code",
      "execution_count": 23,
      "id": "0c0ff050",
      "metadata": {
        "colab": {
          "base_uri": "https://localhost:8080/"
        },
        "id": "0c0ff050",
        "outputId": "7118bb74-1653-4548-9fe5-9aa2370922c0"
      },
      "outputs": [
        {
          "output_type": "stream",
          "name": "stdout",
          "text": [
            "Alice\n"
          ]
        }
      ],
      "source": [
        "d = {'name': 'Alice', 'age': 30}\n",
        "print(d['name'])"
      ]
    },
    {
      "cell_type": "markdown",
      "id": "32757419",
      "metadata": {
        "id": "32757419"
      },
      "source": [
        "### Practical Question 24"
      ]
    },
    {
      "cell_type": "code",
      "execution_count": 24,
      "id": "1aef71dd",
      "metadata": {
        "colab": {
          "base_uri": "https://localhost:8080/"
        },
        "id": "1aef71dd",
        "outputId": "74ee50c4-54b4-4d0b-c323-789baff38926"
      },
      "outputs": [
        {
          "output_type": "stream",
          "name": "stdout",
          "text": [
            "{'name': 'Bob', 'city': 'New York'}\n"
          ]
        }
      ],
      "source": [
        "d = {'name': 'Bob', 'age': 22, 'city': 'New York'}\n",
        "d.pop('age')\n",
        "print(d)"
      ]
    },
    {
      "cell_type": "markdown",
      "id": "bc2ff4f2",
      "metadata": {
        "id": "bc2ff4f2"
      },
      "source": [
        "### Practical Question 25"
      ]
    },
    {
      "cell_type": "code",
      "execution_count": 25,
      "id": "b75c4e5a",
      "metadata": {
        "colab": {
          "base_uri": "https://localhost:8080/"
        },
        "id": "b75c4e5a",
        "outputId": "d3b15ca5-5a65-40f2-ab0a-9c6d039428be"
      },
      "outputs": [
        {
          "output_type": "stream",
          "name": "stdout",
          "text": [
            "True\n"
          ]
        }
      ],
      "source": [
        "d = {'name': 'Alice', 'city': 'Paris'}\n",
        "print('city' in d)"
      ]
    },
    {
      "cell_type": "markdown",
      "id": "e065b9aa",
      "metadata": {
        "id": "e065b9aa"
      },
      "source": [
        "### Practical Question 26"
      ]
    },
    {
      "cell_type": "code",
      "execution_count": 26,
      "id": "d9da2341",
      "metadata": {
        "colab": {
          "base_uri": "https://localhost:8080/"
        },
        "id": "d9da2341",
        "outputId": "21ca3cc3-5ad2-4da2-dfa2-469153bd9041"
      },
      "outputs": [
        {
          "output_type": "stream",
          "name": "stdout",
          "text": [
            "[1, 2, 3] (4, 5, 6) {'a': 7, 'b': 8}\n"
          ]
        }
      ],
      "source": [
        "lst = [1, 2, 3]\n",
        "tpl = (4, 5, 6)\n",
        "dct = {'a': 7, 'b': 8}\n",
        "print(lst, tpl, dct)"
      ]
    },
    {
      "cell_type": "markdown",
      "id": "1b507595",
      "metadata": {
        "id": "1b507595"
      },
      "source": [
        "### Practical Question 27"
      ]
    },
    {
      "cell_type": "code",
      "execution_count": 27,
      "id": "bad505bd",
      "metadata": {
        "colab": {
          "base_uri": "https://localhost:8080/"
        },
        "id": "bad505bd",
        "outputId": "ee546acb-099b-4a29-c033-97f72a205845"
      },
      "outputs": [
        {
          "output_type": "stream",
          "name": "stdout",
          "text": [
            "[19, 20, 47, 76, 92]\n"
          ]
        }
      ],
      "source": [
        "import random\n",
        "lst = random.sample(range(1, 101), 5)\n",
        "lst.sort()\n",
        "print(lst)"
      ]
    },
    {
      "cell_type": "markdown",
      "id": "eecb5fbb",
      "metadata": {
        "id": "eecb5fbb"
      },
      "source": [
        "### Practical Question 28"
      ]
    },
    {
      "cell_type": "code",
      "execution_count": 28,
      "id": "b4126922",
      "metadata": {
        "colab": {
          "base_uri": "https://localhost:8080/"
        },
        "id": "b4126922",
        "outputId": "45d18f78-2fa8-458c-e5cd-8180c8c1be4d"
      },
      "outputs": [
        {
          "output_type": "stream",
          "name": "stdout",
          "text": [
            "four\n"
          ]
        }
      ],
      "source": [
        "lst = ['one', 'two', 'three', 'four', 'five']\n",
        "print(lst[3])"
      ]
    },
    {
      "cell_type": "markdown",
      "id": "a77307b3",
      "metadata": {
        "id": "a77307b3"
      },
      "source": [
        "### Practical Question 29"
      ]
    },
    {
      "cell_type": "code",
      "execution_count": 29,
      "id": "b7e45198",
      "metadata": {
        "colab": {
          "base_uri": "https://localhost:8080/"
        },
        "id": "b7e45198",
        "outputId": "458bc400-1feb-4747-aeeb-51c2261e8e05"
      },
      "outputs": [
        {
          "output_type": "stream",
          "name": "stdout",
          "text": [
            "{'a': 1, 'b': 2}\n"
          ]
        }
      ],
      "source": [
        "d1 = {'a': 1}\n",
        "d2 = {'b': 2}\n",
        "d1.update(d2)\n",
        "print(d1)"
      ]
    },
    {
      "cell_type": "markdown",
      "id": "b81355f5",
      "metadata": {
        "id": "b81355f5"
      },
      "source": [
        "### Practical Question 30"
      ]
    },
    {
      "cell_type": "code",
      "execution_count": 30,
      "id": "8f1920c6",
      "metadata": {
        "colab": {
          "base_uri": "https://localhost:8080/"
        },
        "id": "8f1920c6",
        "outputId": "c443d6f7-c47f-4f86-c6d4-95f32cc02555"
      },
      "outputs": [
        {
          "output_type": "stream",
          "name": "stdout",
          "text": [
            "{'banana', 'cherry', 'apple'}\n"
          ]
        }
      ],
      "source": [
        "lst = ['apple', 'banana', 'cherry']\n",
        "print(set(lst))"
      ]
    }
  ],
  "metadata": {
    "colab": {
      "provenance": []
    },
    "language_info": {
      "name": "python"
    },
    "kernelspec": {
      "name": "python3",
      "display_name": "Python 3"
    }
  },
  "nbformat": 4,
  "nbformat_minor": 5
}